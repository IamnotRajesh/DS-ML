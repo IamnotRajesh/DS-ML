{
 "cells": [
  {
   "cell_type": "code",
   "execution_count": 1,
   "metadata": {
    "executionInfo": {
     "elapsed": 2198,
     "status": "ok",
     "timestamp": 1691987778766,
     "user": {
      "displayName": "Anish Thapaliya",
      "userId": "06325140887572930045"
     },
     "user_tz": -345
    },
    "id": "wvxNNCU1UyfS"
   },
   "outputs": [],
   "source": [
    "import numpy as np\n",
    "import matplotlib.pyplot as plt\n",
    "import seaborn as sns\n",
    "%matplotlib inline"
   ]
  },
  {
   "cell_type": "code",
   "execution_count": 2,
   "metadata": {
    "executionInfo": {
     "elapsed": 3,
     "status": "ok",
     "timestamp": 1691987778766,
     "user": {
      "displayName": "Anish Thapaliya",
      "userId": "06325140887572930045"
     },
     "user_tz": -345
    },
    "id": "NJOgJj0-VEPk"
   },
   "outputs": [],
   "source": [
    "import statistics"
   ]
  },
  {
   "cell_type": "markdown",
   "metadata": {
    "id": "SAMBqp37VH42"
   },
   "source": [
    "**Measure of Central Tendency**\n",
    "- Mean\n",
    "- Median\n",
    "- Mode"
   ]
  },
  {
   "cell_type": "code",
   "execution_count": 3,
   "metadata": {
    "colab": {
     "base_uri": "https://localhost:8080/",
     "height": 206
    },
    "executionInfo": {
     "elapsed": 473,
     "status": "ok",
     "timestamp": 1691989426015,
     "user": {
      "displayName": "Anish Thapaliya",
      "userId": "06325140887572930045"
     },
     "user_tz": -345
    },
    "id": "ketnkxhIVG-6",
    "outputId": "8e766443-9d1e-46e7-d309-b424e4c30286"
   },
   "outputs": [
    {
     "data": {
      "text/html": [
       "<div>\n",
       "<style scoped>\n",
       "    .dataframe tbody tr th:only-of-type {\n",
       "        vertical-align: middle;\n",
       "    }\n",
       "\n",
       "    .dataframe tbody tr th {\n",
       "        vertical-align: top;\n",
       "    }\n",
       "\n",
       "    .dataframe thead th {\n",
       "        text-align: right;\n",
       "    }\n",
       "</style>\n",
       "<table border=\"1\" class=\"dataframe\">\n",
       "  <thead>\n",
       "    <tr style=\"text-align: right;\">\n",
       "      <th></th>\n",
       "      <th>total_bill</th>\n",
       "      <th>tip</th>\n",
       "      <th>sex</th>\n",
       "      <th>smoker</th>\n",
       "      <th>day</th>\n",
       "      <th>time</th>\n",
       "      <th>size</th>\n",
       "    </tr>\n",
       "  </thead>\n",
       "  <tbody>\n",
       "    <tr>\n",
       "      <th>0</th>\n",
       "      <td>16.99</td>\n",
       "      <td>1.01</td>\n",
       "      <td>Female</td>\n",
       "      <td>No</td>\n",
       "      <td>Sun</td>\n",
       "      <td>Dinner</td>\n",
       "      <td>2</td>\n",
       "    </tr>\n",
       "    <tr>\n",
       "      <th>1</th>\n",
       "      <td>10.34</td>\n",
       "      <td>1.66</td>\n",
       "      <td>Male</td>\n",
       "      <td>No</td>\n",
       "      <td>Sun</td>\n",
       "      <td>Dinner</td>\n",
       "      <td>3</td>\n",
       "    </tr>\n",
       "    <tr>\n",
       "      <th>2</th>\n",
       "      <td>21.01</td>\n",
       "      <td>3.50</td>\n",
       "      <td>Male</td>\n",
       "      <td>No</td>\n",
       "      <td>Sun</td>\n",
       "      <td>Dinner</td>\n",
       "      <td>3</td>\n",
       "    </tr>\n",
       "    <tr>\n",
       "      <th>3</th>\n",
       "      <td>23.68</td>\n",
       "      <td>3.31</td>\n",
       "      <td>Male</td>\n",
       "      <td>No</td>\n",
       "      <td>Sun</td>\n",
       "      <td>Dinner</td>\n",
       "      <td>2</td>\n",
       "    </tr>\n",
       "    <tr>\n",
       "      <th>4</th>\n",
       "      <td>24.59</td>\n",
       "      <td>3.61</td>\n",
       "      <td>Female</td>\n",
       "      <td>No</td>\n",
       "      <td>Sun</td>\n",
       "      <td>Dinner</td>\n",
       "      <td>4</td>\n",
       "    </tr>\n",
       "  </tbody>\n",
       "</table>\n",
       "</div>"
      ],
      "text/plain": [
       "   total_bill   tip     sex smoker  day    time  size\n",
       "0       16.99  1.01  Female     No  Sun  Dinner     2\n",
       "1       10.34  1.66    Male     No  Sun  Dinner     3\n",
       "2       21.01  3.50    Male     No  Sun  Dinner     3\n",
       "3       23.68  3.31    Male     No  Sun  Dinner     2\n",
       "4       24.59  3.61  Female     No  Sun  Dinner     4"
      ]
     },
     "execution_count": 3,
     "metadata": {},
     "output_type": "execute_result"
    }
   ],
   "source": [
    "# load datasets\n",
    "df = sns.load_dataset('tips') # tips received by waiter\n",
    "df.head()"
   ]
  },
  {
   "cell_type": "markdown",
   "metadata": {
    "id": "F14lG8VGajNM"
   },
   "source": [
    "## 1. Tips Data"
   ]
  },
  {
   "cell_type": "code",
   "execution_count": 4,
   "metadata": {
    "colab": {
     "base_uri": "https://localhost:8080/"
    },
    "executionInfo": {
     "elapsed": 450,
     "status": "ok",
     "timestamp": 1691987898908,
     "user": {
      "displayName": "Anish Thapaliya",
      "userId": "06325140887572930045"
     },
     "user_tz": -345
    },
    "id": "i1zFDaqeVb-m",
    "outputId": "6ebdd3bd-86e9-4698-df88-b202a210c08b"
   },
   "outputs": [
    {
     "data": {
      "text/plain": [
       "19.78594262295082"
      ]
     },
     "execution_count": 4,
     "metadata": {},
     "output_type": "execute_result"
    }
   ],
   "source": [
    "# mean\n",
    "np.mean(df['total_bill'])"
   ]
  },
  {
   "cell_type": "code",
   "execution_count": 5,
   "metadata": {
    "colab": {
     "base_uri": "https://localhost:8080/"
    },
    "executionInfo": {
     "elapsed": 12,
     "status": "ok",
     "timestamp": 1691987911518,
     "user": {
      "displayName": "Anish Thapaliya",
      "userId": "06325140887572930045"
     },
     "user_tz": -345
    },
    "id": "ZUErTkF-VmvE",
    "outputId": "796678b2-0446-4e3c-cb3e-66c20f55c4a8"
   },
   "outputs": [
    {
     "data": {
      "text/plain": [
       "17.795"
      ]
     },
     "execution_count": 5,
     "metadata": {},
     "output_type": "execute_result"
    }
   ],
   "source": [
    "# median\n",
    "np.median(df['total_bill'])"
   ]
  },
  {
   "cell_type": "markdown",
   "metadata": {
    "id": "2wEJgghHYAA_"
   },
   "source": [
    "- mean != median\n",
    "- mean > median: Right tailed\n",
    "- Distributions is not symmetrical and there may be some data point considered as outliers."
   ]
  },
  {
   "cell_type": "code",
   "execution_count": 6,
   "metadata": {
    "colab": {
     "base_uri": "https://localhost:8080/"
    },
    "executionInfo": {
     "elapsed": 417,
     "status": "ok",
     "timestamp": 1691988701716,
     "user": {
      "displayName": "Anish Thapaliya",
      "userId": "06325140887572930045"
     },
     "user_tz": -345
    },
    "id": "hDBl96OQVp-s",
    "outputId": "49bd32a8-8356-4cf6-bf86-9ad80e4bf2a8"
   },
   "outputs": [
    {
     "data": {
      "text/plain": [
       "13.42"
      ]
     },
     "execution_count": 6,
     "metadata": {},
     "output_type": "execute_result"
    }
   ],
   "source": [
    "# mode\n",
    "# using statistics module\n",
    "\n",
    "statistics.mode(df['total_bill'])"
   ]
  },
  {
   "cell_type": "markdown",
   "metadata": {
    "id": "CA4pICFLYu2-"
   },
   "source": [
    "**Box plot**"
   ]
  },
  {
   "cell_type": "code",
   "execution_count": 7,
   "metadata": {
    "colab": {
     "base_uri": "https://localhost:8080/",
     "height": 447
    },
    "executionInfo": {
     "elapsed": 1492,
     "status": "ok",
     "timestamp": 1691988767124,
     "user": {
      "displayName": "Anish Thapaliya",
      "userId": "06325140887572930045"
     },
     "user_tz": -345
    },
    "id": "EL4NqAcaYTpt",
    "outputId": "2bf28d42-4ebd-4e14-cd13-09e87397423d"
   },
   "outputs": [
    {
     "data": {
      "text/plain": [
       "<Axes: >"
      ]
     },
     "execution_count": 7,
     "metadata": {},
     "output_type": "execute_result"
    },
    {
     "data": {
      "image/png": "[encoded data removed]",
      "text/plain": [
       "<Figure size 640x480 with 1 Axes>"
      ]
     },
     "metadata": {},
     "output_type": "display_data"
    }
   ],
   "source": [
    "sns.boxplot(df['total_bill'])"
   ]
  },
  {
   "cell_type": "markdown",
   "metadata": {
    "id": "ugNPG1O8ZNYu"
   },
   "source": [
    "**Histogram Plot**"
   ]
  },
  {
   "cell_type": "code",
   "execution_count": 14,
   "metadata": {
    "colab": {
     "base_uri": "https://localhost:8080/",
     "height": 452
    },
    "executionInfo": {
     "elapsed": 1081,
     "status": "ok",
     "timestamp": 1691988964144,
     "user": {
      "displayName": "Anish Thapaliya",
      "userId": "06325140887572930045"
     },
     "user_tz": -345
    },
    "id": "Q5kdKGi0ZLB5",
    "outputId": "52902389-7241-490b-d7b6-ab78c6bc1db4"
   },
   "outputs": [
    {
     "data": {
      "image/png": "[encoded data removed]",
      "text/plain": [
       "<Figure size 640x480 with 1 Axes>"
      ]
     },
     "metadata": {},
     "output_type": "display_data"
    }
   ],
   "source": [
    "sns.histplot(df['total_bill'], kde=True)\n",
    "plt.show()"
   ]
  },
  {
   "cell_type": "markdown",
   "metadata": {
    "id": "ZcvmxRv7ZeAC"
   },
   "source": [
    "- Data Distributions is not symmetrical\n",
    "- Skewed Distributions towards right i.e. Right Tailed\n"
   ]
  },
  {
   "cell_type": "markdown",
   "metadata": {
    "id": "E7ITd6plalm1"
   },
   "source": [
    "## 2. Iris Data"
   ]
  },
  {
   "cell_type": "code",
   "execution_count": 8,
   "metadata": {
    "colab": {
     "base_uri": "https://localhost:8080/",
     "height": 206
    },
    "executionInfo": {
     "elapsed": 709,
     "status": "ok",
     "timestamp": 1691989441998,
     "user": {
      "displayName": "Anish Thapaliya",
      "userId": "06325140887572930045"
     },
     "user_tz": -345
    },
    "id": "vrA18LU6Y6b1",
    "outputId": "ad8d13ac-39ec-4cdf-b515-7d0f527171ac"
   },
   "outputs": [
    {
     "data": {
      "text/html": [
       "<div>\n",
       "<style scoped>\n",
       "    .dataframe tbody tr th:only-of-type {\n",
       "        vertical-align: middle;\n",
       "    }\n",
       "\n",
       "    .dataframe tbody tr th {\n",
       "        vertical-align: top;\n",
       "    }\n",
       "\n",
       "    .dataframe thead th {\n",
       "        text-align: right;\n",
       "    }\n",
       "</style>\n",
       "<table border=\"1\" class=\"dataframe\">\n",
       "  <thead>\n",
       "    <tr style=\"text-align: right;\">\n",
       "      <th></th>\n",
       "      <th>sepal_length</th>\n",
       "      <th>sepal_width</th>\n",
       "      <th>petal_length</th>\n",
       "      <th>petal_width</th>\n",
       "      <th>species</th>\n",
       "    </tr>\n",
       "  </thead>\n",
       "  <tbody>\n",
       "    <tr>\n",
       "      <th>0</th>\n",
       "      <td>5.1</td>\n",
       "      <td>3.5</td>\n",
       "      <td>1.4</td>\n",
       "      <td>0.2</td>\n",
       "      <td>setosa</td>\n",
       "    </tr>\n",
       "    <tr>\n",
       "      <th>1</th>\n",
       "      <td>4.9</td>\n",
       "      <td>3.0</td>\n",
       "      <td>1.4</td>\n",
       "      <td>0.2</td>\n",
       "      <td>setosa</td>\n",
       "    </tr>\n",
       "    <tr>\n",
       "      <th>2</th>\n",
       "      <td>4.7</td>\n",
       "      <td>3.2</td>\n",
       "      <td>1.3</td>\n",
       "      <td>0.2</td>\n",
       "      <td>setosa</td>\n",
       "    </tr>\n",
       "    <tr>\n",
       "      <th>3</th>\n",
       "      <td>4.6</td>\n",
       "      <td>3.1</td>\n",
       "      <td>1.5</td>\n",
       "      <td>0.2</td>\n",
       "      <td>setosa</td>\n",
       "    </tr>\n",
       "    <tr>\n",
       "      <th>4</th>\n",
       "      <td>5.0</td>\n",
       "      <td>3.6</td>\n",
       "      <td>1.4</td>\n",
       "      <td>0.2</td>\n",
       "      <td>setosa</td>\n",
       "    </tr>\n",
       "  </tbody>\n",
       "</table>\n",
       "</div>"
      ],
      "text/plain": [
       "   sepal_length  sepal_width  petal_length  petal_width species\n",
       "0           5.1          3.5           1.4          0.2  setosa\n",
       "1           4.9          3.0           1.4          0.2  setosa\n",
       "2           4.7          3.2           1.3          0.2  setosa\n",
       "3           4.6          3.1           1.5          0.2  setosa\n",
       "4           5.0          3.6           1.4          0.2  setosa"
      ]
     },
     "execution_count": 8,
     "metadata": {},
     "output_type": "execute_result"
    }
   ],
   "source": [
    "# load dataset\n",
    "df_iris = sns.load_dataset('iris') # iris flower datasets\n",
    "df_iris.head()"
   ]
  },
  {
   "cell_type": "markdown",
   "metadata": {
    "id": "di67bSK3bjF2"
   },
   "source": [
    "**histogram plot**"
   ]
  },
  {
   "cell_type": "code",
   "execution_count": 9,
   "metadata": {
    "colab": {
     "base_uri": "https://localhost:8080/",
     "height": 467
    },
    "executionInfo": {
     "elapsed": 1139,
     "status": "ok",
     "timestamp": 1691989595304,
     "user": {
      "displayName": "Anish Thapaliya",
      "userId": "06325140887572930045"
     },
     "user_tz": -345
    },
    "id": "CRfWjTuLbfVU",
    "outputId": "201c1455-b72a-4014-eb00-470102395f5e"
   },
   "outputs": [
    {
     "data": {
      "text/plain": [
       "<Axes: xlabel='sepal_length', ylabel='Count'>"
      ]
     },
     "execution_count": 9,
     "metadata": {},
     "output_type": "execute_result"
    },
    {
     "data": {
      "image/png": "[encoded data removed]",
      "text/plain": [
       "<Figure size 640x480 with 1 Axes>"
      ]
     },
     "metadata": {},
     "output_type": "display_data"
    }
   ],
   "source": [
    "# feature: sepal_length\n",
    "\n",
    "sns.histplot(df_iris['sepal_length'], kde=True)"
   ]
  },
  {
   "cell_type": "markdown",
   "metadata": {
    "id": "24WyYK1ebty3"
   },
   "source": [
    "- Still some skewness in datasets.\n",
    "- We can't say its normal distribution but close to it"
   ]
  },
  {
   "cell_type": "code",
   "execution_count": 10,
   "metadata": {
    "colab": {
     "base_uri": "https://localhost:8080/",
     "height": 467
    },
    "executionInfo": {
     "elapsed": 1133,
     "status": "ok",
     "timestamp": 1691989639101,
     "user": {
      "displayName": "Anish Thapaliya",
      "userId": "06325140887572930045"
     },
     "user_tz": -345
    },
    "id": "g2Q6GID7bq1T",
    "outputId": "ac07bd75-2542-4d36-c3e4-5bfd2d7578aa"
   },
   "outputs": [
    {
     "data": {
      "text/plain": [
       "<Axes: xlabel='sepal_width', ylabel='Count'>"
      ]
     },
     "execution_count": 10,
     "metadata": {},
     "output_type": "execute_result"
    },
    {
     "data": {
      "image/png": "[encoded data removed]",
      "text/plain": [
       "<Figure size 640x480 with 1 Axes>"
      ]
     },
     "metadata": {},
     "output_type": "display_data"
    }
   ],
   "source": [
    "# feature: sepal_width\n",
    "\n",
    "sns.histplot(df_iris['sepal_width'], kde=True)"
   ]
  },
  {
   "cell_type": "markdown",
   "metadata": {
    "id": "Wpy6SKOvcTMf"
   },
   "source": [
    "- Now, we can say \"sepal_width\" is normally distributed."
   ]
  },
  {
   "cell_type": "markdown",
   "metadata": {
    "id": "nFjTxbWDdDQD"
   },
   "source": [
    "**Bar graph**"
   ]
  },
  {
   "cell_type": "code",
   "execution_count": 12,
   "metadata": {
    "id": "Nh3-eRzYdTF3"
   },
   "outputs": [
    {
     "data": {
      "text/plain": [
       "0         setosa\n",
       "1         setosa\n",
       "2         setosa\n",
       "3         setosa\n",
       "4         setosa\n",
       "         ...    \n",
       "145    virginica\n",
       "146    virginica\n",
       "147    virginica\n",
       "148    virginica\n",
       "149    virginica\n",
       "Name: species, Length: 150, dtype: object"
      ]
     },
     "execution_count": 12,
     "metadata": {},
     "output_type": "execute_result"
    }
   ],
   "source": [
    "df_iris['species']"
   ]
  },
  {
   "cell_type": "code",
   "execution_count": 11,
   "metadata": {
    "colab": {
     "base_uri": "https://localhost:8080/",
     "height": 466
    },
    "executionInfo": {
     "elapsed": 7,
     "status": "ok",
     "timestamp": 1691989972434,
     "user": {
      "displayName": "Anish Thapaliya",
      "userId": "06325140887572930045"
     },
     "user_tz": -345
    },
    "id": "XM6a5oCscPVo",
    "outputId": "810cd835-ca91-432b-9613-b8af895add4c"
   },
   "outputs": [
    {
     "data": {
      "text/plain": [
       "<Axes: xlabel='species', ylabel='count'>"
      ]
     },
     "execution_count": 11,
     "metadata": {},
     "output_type": "execute_result"
    },
    {
     "data": {
      "image/png": "[encoded data removed]",
      "text/plain": [
       "<Figure size 640x480 with 1 Axes>"
      ]
     },
     "metadata": {},
     "output_type": "display_data"
    }
   ],
   "source": [
    "# features: species\n",
    "\n",
    "sns.countplot(x = df_iris['species'])"
   ]
  },
  {
   "cell_type": "markdown",
   "metadata": {
    "id": "ASNE70lydkHv"
   },
   "source": [
    "- All three classes has same number of samples."
   ]
  },
  {
   "cell_type": "markdown",
   "metadata": {
    "id": "MPo-RF64dpLs"
   },
   "source": [
    "**percentile**"
   ]
  },
  {
   "cell_type": "code",
   "execution_count": 13,
   "metadata": {
    "colab": {
     "base_uri": "https://localhost:8080/"
    },
    "executionInfo": {
     "elapsed": 11,
     "status": "ok",
     "timestamp": 1691990415678,
     "user": {
      "displayName": "Anish Thapaliya",
      "userId": "06325140887572930045"
     },
     "user_tz": -345
    },
    "id": "0XJ0ZKzDdKNE",
    "outputId": "281e1c31-1d1f-485a-8368-16b77190c253"
   },
   "outputs": [
    {
     "data": {
      "text/plain": [
       "array([5.1, 6.4])"
      ]
     },
     "execution_count": 13,
     "metadata": {},
     "output_type": "execute_result"
    }
   ],
   "source": [
    "# get 25% and 75% percentile\n",
    "\n",
    "np.percentile(df_iris['sepal_length'], [25, 75])"
   ]
  },
  {
   "cell_type": "markdown",
   "metadata": {
    "id": "gD7yCthgfYK1"
   },
   "source": [
    "- 25% of the entire distribution is less than 5.1\n",
    "- 75% of the entire distribution is less than 6.4"
   ]
  },
  {
   "cell_type": "code",
   "execution_count": null,
   "metadata": {
    "id": "pIit7XdKfNTU"
   },
   "outputs": [],
   "source": []
  }
 ],
 "metadata": {
  "colab": {
   "authorship_tag": "ABX9TyNUUr6Eup0HyfAfLi9Zp1LY",
   "provenance": []
  },
  "kernelspec": {
   "display_name": "Python 3 (ipykernel)",
   "language": "python",
   "name": "python3"
  },
  "language_info": {
   "codemirror_mode": {
    "name": "ipython",
    "version": 3
   },
   "file_extension": ".py",
   "mimetype": "text/x-python",
   "name": "python",
   "nbconvert_exporter": "python",
   "pygments_lexer": "ipython3",
   "version": "3.11.5"
  }
 },
 "nbformat": 4,
 "nbformat_minor": 1
}
