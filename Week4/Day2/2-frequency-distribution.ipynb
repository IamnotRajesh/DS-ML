{
 "cells": [
  {
   "cell_type": "markdown",
   "metadata": {
    "id": "pzddDC1i0E1Q"
   },
   "source": [
    "## Frequency Distribution\n",
    "- Data is generally classified as Numerical and Categorical.\n",
    "- Frequency Distributions help to understand the distribution or pattern of data by displaying counts or frequency of various values or intervals.\n",
    "- **Steps:**\n",
    "  - Data Collection\n",
    "  - Data Sorting\n",
    "  - Identify Categories (For Categorical Data)\n",
    "  - Create Intervals (For Numerical Data)\n",
    "  - Count Frequencies\n",
    "  - Create Frequency Table\n",
    "  - Visual Representation:\n",
    "  - Bar Chart or Histograms\n"
   ]
  },
  {
   "cell_type": "code",
   "execution_count": 1,
   "metadata": {
    "executionInfo": {
     "elapsed": 4,
     "status": "ok",
     "timestamp": 1692080996478,
     "user": {
      "displayName": "Anish Thapaliya",
      "userId": "06325140887572930045"
     },
     "user_tz": -345
    },
    "id": "R7IpampT0tXk"
   },
   "outputs": [],
   "source": [
    "from collections import Counter\n",
    "import numpy as np\n",
    "import pandas as pd\n",
    "import matplotlib.pyplot as plt\n",
    "import seaborn as sns"
   ]
  },
  {
   "cell_type": "markdown",
   "metadata": {
    "id": "v15cBHOE0feT"
   },
   "source": [
    "### Example 1: Categorical Data"
   ]
  },
  {
   "cell_type": "code",
   "execution_count": 2,
   "metadata": {
    "executionInfo": {
     "elapsed": 6,
     "status": "ok",
     "timestamp": 1692079959050,
     "user": {
      "displayName": "Anish Thapaliya",
      "userId": "06325140887572930045"
     },
     "user_tz": -345
    },
    "id": "o51HfIivpkWH"
   },
   "outputs": [],
   "source": [
    "# sample data\n",
    "colors = [\n",
    "    \"Red\", \"Blue\", \"Green\", \"Red\", \"Yellow\", \"Blue\", \"Green\", \"Green\", \"Blue\", \"Red\",\n",
    "    \"Red\", \"Blue\", \"Yellow\", \"Green\", \"Green\", \"Blue\", \"Red\", \"Red\", \"Red\", \"Blue\",\n",
    "    \"Green\", \"Yellow\", \"Blue\", \"Blue\", \"Green\", \"Red\", \"Red\", \"Green\", \"Blue\", \"Green\",\n",
    "    \"Yellow\", \"Red\", \"Blue\", \"Green\", \"Blue\", \"Red\", \"Blue\", \"Green\", \"Blue\", \"Red\",\n",
    "    \"Green\", \"Green\", \"Yellow\", \"Red\", \"Blue\", \"Green\", \"Blue\", \"Red\", \"Green\", \"Red\"\n",
    "]"
   ]
  },
  {
   "cell_type": "code",
   "execution_count": 3,
   "metadata": {
    "colab": {
     "base_uri": "https://localhost:8080/"
    },
    "executionInfo": {
     "elapsed": 7,
     "status": "ok",
     "timestamp": 1692079975867,
     "user": {
      "displayName": "Anish Thapaliya",
      "userId": "06325140887572930045"
     },
     "user_tz": -345
    },
    "id": "EElDqdwE0wFC",
    "outputId": "16930837-b3e8-4094-8dee-59189ba64f69"
   },
   "outputs": [
    {
     "name": "stdout",
     "output_type": "stream",
     "text": [
      "Counter({'Red': 15, 'Blue': 15, 'Green': 15, 'Yellow': 5})\n"
     ]
    }
   ],
   "source": [
    "# Count Frequencies\n",
    "color_counts = Counter(colors)\n",
    "print(color_counts)"
   ]
  },
  {
   "cell_type": "code",
   "execution_count": 4,
   "metadata": {
    "colab": {
     "base_uri": "https://localhost:8080/"
    },
    "executionInfo": {
     "elapsed": 3,
     "status": "ok",
     "timestamp": 1692080019220,
     "user": {
      "displayName": "Anish Thapaliya",
      "userId": "06325140887572930045"
     },
     "user_tz": -345
    },
    "id": "HydEx3Dn02YE",
    "outputId": "d2d3ac03-c833-4cde-b2f4-af6a9b3a1159"
   },
   "outputs": [
    {
     "name": "stdout",
     "output_type": "stream",
     "text": [
      "Frequency Table \n",
      "Color\tFrequency\n",
      "----------------\n",
      "Red\t15\n",
      "Blue\t15\n",
      "Green\t15\n",
      "Yellow\t5\n"
     ]
    }
   ],
   "source": [
    "# Display Frequency Table\n",
    "print('Frequency Table ')\n",
    "print(\"Color\\tFrequency\")\n",
    "print(\"----------------\")\n",
    "\n",
    "for color, count in color_counts.items():\n",
    "    print(f\"{color}\\t{count}\")"
   ]
  },
  {
   "cell_type": "code",
   "execution_count": 5,
   "metadata": {
    "colab": {
     "base_uri": "https://localhost:8080/",
     "height": 175
    },
    "executionInfo": {
     "elapsed": 7,
     "status": "ok",
     "timestamp": 1692080947319,
     "user": {
      "displayName": "Anish Thapaliya",
      "userId": "06325140887572930045"
     },
     "user_tz": -345
    },
    "id": "Ess6gs9h1BPy",
    "outputId": "03e74fe6-6ea8-4527-dc17-18d817f367db"
   },
   "outputs": [
    {
     "data": {
      "text/html": [
       "<div>\n",
       "<style scoped>\n",
       "    .dataframe tbody tr th:only-of-type {\n",
       "        vertical-align: middle;\n",
       "    }\n",
       "\n",
       "    .dataframe tbody tr th {\n",
       "        vertical-align: top;\n",
       "    }\n",
       "\n",
       "    .dataframe thead th {\n",
       "        text-align: right;\n",
       "    }\n",
       "</style>\n",
       "<table border=\"1\" class=\"dataframe\">\n",
       "  <thead>\n",
       "    <tr style=\"text-align: right;\">\n",
       "      <th></th>\n",
       "      <th>Frequency</th>\n",
       "    </tr>\n",
       "  </thead>\n",
       "  <tbody>\n",
       "    <tr>\n",
       "      <th>Red</th>\n",
       "      <td>15</td>\n",
       "    </tr>\n",
       "    <tr>\n",
       "      <th>Blue</th>\n",
       "      <td>15</td>\n",
       "    </tr>\n",
       "    <tr>\n",
       "      <th>Green</th>\n",
       "      <td>15</td>\n",
       "    </tr>\n",
       "    <tr>\n",
       "      <th>Yellow</th>\n",
       "      <td>5</td>\n",
       "    </tr>\n",
       "  </tbody>\n",
       "</table>\n",
       "</div>"
      ],
      "text/plain": [
       "        Frequency\n",
       "Red            15\n",
       "Blue           15\n",
       "Green          15\n",
       "Yellow          5"
      ]
     },
     "execution_count": 5,
     "metadata": {},
     "output_type": "execute_result"
    }
   ],
   "source": [
    "# Construct DataFrame\n",
    "color_counts = dict(color_counts)\n",
    "index_list = list(color_counts.keys())\n",
    "value_list = list(color_counts.values())\n",
    "\n",
    "df_color = pd.DataFrame(value_list, index_list, columns=['Frequency'])\n",
    "df_color.head()"
   ]
  },
  {
   "cell_type": "code",
   "execution_count": 6,
   "metadata": {
    "colab": {
     "base_uri": "https://localhost:8080/",
     "height": 458
    },
    "executionInfo": {
     "elapsed": 477,
     "status": "ok",
     "timestamp": 1692081022308,
     "user": {
      "displayName": "Anish Thapaliya",
      "userId": "06325140887572930045"
     },
     "user_tz": -345
    },
    "id": "8m0Ln_5P3jFp",
    "outputId": "b2a0438b-c583-4de9-c859-c3d29e9817e3"
   },
   "outputs": [
    {
     "data": {
      "image/png": "[encoded data removed]",
      "text/plain": [
       "<Figure size 640x480 with 1 Axes>"
      ]
     },
     "metadata": {},
     "output_type": "display_data"
    }
   ],
   "source": [
    "# plot Bargraph\n",
    "df_color.plot(kind='bar')\n",
    "plt.show()"
   ]
  },
  {
   "cell_type": "markdown",
   "metadata": {
    "id": "Ys9Tau0v5tzj"
   },
   "source": [
    "## Example 2: Numerical Data"
   ]
  },
  {
   "cell_type": "code",
   "execution_count": 7,
   "metadata": {
    "colab": {
     "base_uri": "https://localhost:8080/"
    },
    "executionInfo": {
     "elapsed": 13,
     "status": "ok",
     "timestamp": 1692081364809,
     "user": {
      "displayName": "Anish Thapaliya",
      "userId": "06325140887572930045"
     },
     "user_tz": -345
    },
    "id": "DS5KMV5b3xZy",
    "outputId": "61f1c386-b170-462e-9412-81cb4359efff"
   },
   "outputs": [
    {
     "name": "stdout",
     "output_type": "stream",
     "text": [
      "[28, 34, 25, 28, 22, 31, 25, 27, 30, 24, 22, 29, 26, 31, 28, 34, 30, 25, 27, 26, 23, 29, 32, 28, 26, 24, 30, 25, 28, 31, 33, 27]\n"
     ]
    }
   ],
   "source": [
    "# Sample data - list of ages\n",
    "ages = [\n",
    "    28, 34, 25, 28, 22, 31, 25, 27, 30, 24,\n",
    "    22, 29, 26, 31, 28, 34, 30, 25, 27, 26,\n",
    "    23, 29, 32, 28, 26, 24, 30, 25, 28, 31,\n",
    "    33, 27\n",
    "]\n",
    "print(ages)"
   ]
  },
  {
   "cell_type": "code",
   "execution_count": 8,
   "metadata": {
    "colab": {
     "base_uri": "https://localhost:8080/"
    },
    "executionInfo": {
     "elapsed": 6,
     "status": "ok",
     "timestamp": 1692081500937,
     "user": {
      "displayName": "Anish Thapaliya",
      "userId": "06325140887572930045"
     },
     "user_tz": -345
    },
    "id": "z3YyD4xD6Jdr",
    "outputId": "70d60cfa-f9bf-49ce-8748-0c0f50637895"
   },
   "outputs": [
    {
     "name": "stdout",
     "output_type": "stream",
     "text": [
      "[22, 22, 23, 24, 24, 25, 25, 25, 25, 26, 26, 26, 27, 27, 27, 28, 28, 28, 28, 28, 29, 29, 30, 30, 30, 31, 31, 31, 32, 33, 34, 34]\n"
     ]
    }
   ],
   "source": [
    "# Data Sorting\n",
    "ages = sorted(ages)\n",
    "print(ages)"
   ]
  },
  {
   "cell_type": "code",
   "execution_count": 9,
   "metadata": {
    "executionInfo": {
     "elapsed": 2,
     "status": "ok",
     "timestamp": 1692082000540,
     "user": {
      "displayName": "Anish Thapaliya",
      "userId": "06325140887572930045"
     },
     "user_tz": -345
    },
    "id": "t188Eegb6q0b"
   },
   "outputs": [],
   "source": [
    "# Create Intervals\n",
    "intervals = [(20, 24), (25, 29), (30, 34), (35, 39)]"
   ]
  },
  {
   "cell_type": "code",
   "execution_count": 10,
   "metadata": {
    "executionInfo": {
     "elapsed": 4,
     "status": "ok",
     "timestamp": 1692082007807,
     "user": {
      "displayName": "Anish Thapaliya",
      "userId": "06325140887572930045"
     },
     "user_tz": -345
    },
    "id": "GzBU8riZ8k4Z"
   },
   "outputs": [],
   "source": [
    "# Count frequencies within intervals\n",
    "interval_counts = np.zeros(len(intervals), dtype=int)\n",
    "for age in ages:\n",
    "    for i, (lower, upper) in enumerate(intervals):\n",
    "        if lower <= age <= upper:\n",
    "            interval_counts[i] += 1"
   ]
  },
  {
   "cell_type": "code",
   "execution_count": 11,
   "metadata": {
    "colab": {
     "base_uri": "https://localhost:8080/"
    },
    "executionInfo": {
     "elapsed": 14,
     "status": "ok",
     "timestamp": 1692082018211,
     "user": {
      "displayName": "Anish Thapaliya",
      "userId": "06325140887572930045"
     },
     "user_tz": -345
    },
    "id": "MFt2tJio8mmL",
    "outputId": "c9525390-89d3-40b9-f1b8-60a2de1fddf6"
   },
   "outputs": [
    {
     "name": "stdout",
     "output_type": "stream",
     "text": [
      "Frequency Table for Age Intervals:\n",
      "Interval\tFrequency\n",
      "-------------------\n",
      "20-24\t\t5\n",
      "25-29\t\t17\n",
      "30-34\t\t10\n",
      "35-39\t\t0\n"
     ]
    }
   ],
   "source": [
    "# Display frequency table\n",
    "print(\"Frequency Table for Age Intervals:\")\n",
    "print(\"Interval\\tFrequency\")\n",
    "print(\"-------------------\")\n",
    "for (lower, upper), count in zip(intervals, interval_counts):\n",
    "    print(f\"{lower}-{upper}\\t\\t{count}\")"
   ]
  },
  {
   "cell_type": "code",
   "execution_count": 12,
   "metadata": {
    "colab": {
     "base_uri": "https://localhost:8080/"
    },
    "executionInfo": {
     "elapsed": 3,
     "status": "ok",
     "timestamp": 1692082070962,
     "user": {
      "displayName": "Anish Thapaliya",
      "userId": "06325140887572930045"
     },
     "user_tz": -345
    },
    "id": "1JfdxmzI8pKX",
    "outputId": "851cbda4-03ab-4a60-c0e9-c697fa3c1611"
   },
   "outputs": [
    {
     "name": "stdout",
     "output_type": "stream",
     "text": [
      "['20-24', '25-29', '30-34', '35-39']\n"
     ]
    }
   ],
   "source": [
    "# Extract interval labels for x-axis\n",
    "interval_labels = [f\"{lower}-{upper}\" for (lower, upper) in intervals]\n",
    "print(interval_labels)"
   ]
  },
  {
   "cell_type": "code",
   "execution_count": 13,
   "metadata": {
    "colab": {
     "base_uri": "https://localhost:8080/",
     "height": 447
    },
    "executionInfo": {
     "elapsed": 8,
     "status": "ok",
     "timestamp": 1692082098811,
     "user": {
      "displayName": "Anish Thapaliya",
      "userId": "06325140887572930045"
     },
     "user_tz": -345
    },
    "id": "1UVeJIla82Ag",
    "outputId": "b1ef5db8-e90c-43ee-9704-853e8004779a"
   },
   "outputs": [
    {
     "data": {
      "text/plain": [
       "<BarContainer object of 4 artists>"
      ]
     },
     "execution_count": 13,
     "metadata": {},
     "output_type": "execute_result"
    },
    {
     "data": {
      "image/png": "[encoded data removed]",
      "text/plain": [
       "<Figure size 640x480 with 1 Axes>"
      ]
     },
     "metadata": {},
     "output_type": "display_data"
    }
   ],
   "source": [
    "# Create a Histogram\n",
    "plt.bar(interval_labels, interval_counts, color='skyblue')\n"
   ]
  },
  {
   "cell_type": "code",
   "execution_count": 14,
   "metadata": {
    "executionInfo": {
     "elapsed": 3,
     "status": "ok",
     "timestamp": 1692082255159,
     "user": {
      "displayName": "Anish Thapaliya",
      "userId": "06325140887572930045"
     },
     "user_tz": -345
    },
    "id": "x3OYP-709GLo"
   },
   "outputs": [],
   "source": [
    "# using seaborn\n",
    "bin_edges = [lower for (lower, upper) in intervals] + [intervals[-1][-1] + 1]  # Include the last upper bound"
   ]
  },
  {
   "cell_type": "code",
   "execution_count": 15,
   "metadata": {
    "colab": {
     "base_uri": "https://localhost:8080/",
     "height": 573
    },
    "executionInfo": {
     "elapsed": 1600,
     "status": "ok",
     "timestamp": 1692082614899,
     "user": {
      "displayName": "Anish Thapaliya",
      "userId": "06325140887572930045"
     },
     "user_tz": -345
    },
    "id": "eJNXK6E09i7z",
    "outputId": "e5dd9818-cad9-4ccb-988d-f5299dbdbf47"
   },
   "outputs": [
    {
     "data": {
      "image/png": "[encoded data removed]",
      "text/plain": [
       "<Figure size 800x600 with 1 Axes>"
      ]
     },
     "metadata": {},
     "output_type": "display_data"
    }
   ],
   "source": [
    "# Set the style of the plot\n",
    "sns.set(style=\"whitegrid\")\n",
    "\n",
    "# Create a histogram using Seaborn with specified bins\n",
    "plt.figure(figsize=(8, 6))  # Set the figure size\n",
    "sns.histplot(ages, bins=bin_edges, kde=True, color='skyblue')  # Use specified bin edges\n",
    "plt.xlabel('Ages')\n",
    "plt.ylabel('Frequency')\n",
    "plt.title('Histogram of Ages')\n",
    "plt.show()"
   ]
  },
  {
   "cell_type": "code",
   "execution_count": 16,
   "metadata": {
    "id": "5p8D2bTV9jNq"
   },
   "outputs": [
    {
     "data": {
      "text/plain": [
       "''"
      ]
     },
     "execution_count": 16,
     "metadata": {},
     "output_type": "execute_result"
    }
   ],
   "source": [
    "sc"
   ]
  }
 ],
 "metadata": {
  "colab": {
   "authorship_tag": "ABX9TyMPa8RGcd1FIvHjOzDah0gN",
   "provenance": []
  },
  "kernelspec": {
   "display_name": "Python 3 (ipykernel)",
   "language": "python",
   "name": "python3"
  },
  "language_info": {
   "codemirror_mode": {
    "name": "ipython",
    "version": 3
   },
   "file_extension": ".py",
   "mimetype": "text/x-python",
   "name": "python",
   "nbconvert_exporter": "python",
   "pygments_lexer": "ipython3",
   "version": "3.11.5"
  }
 },
 "nbformat": 4,
 "nbformat_minor": 1
}
