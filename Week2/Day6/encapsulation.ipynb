{
 "cells": [
  {
   "cell_type": "markdown",
   "metadata": {},
   "source": [
    "# Bank Account Management\n",
    "\n",
    "## Objective\n",
    "Create a class for managing a bank account, emphasizing encapsulation with private attributes and methods.\n",
    "\n",
    "## Requirements\n",
    "1. Create a class named BankAccount with private attributes:\n",
    "   - \\_\\_account_number: A unique identifier for the bank account.\n",
    "   - \\_\\_balance: The current balance of the bank account.\n",
    "   - \\_\\_owner: The owner's name.\n",
    "\n",
    "2. Implement the following methods within the BankAccount class:\n",
    "   - A constructor `__init__` to initialize the attributes.\n",
    "   - Getter methods for each attribute (get_account_number, get_balance, get_owner).\n",
    "   - Setter methods for each attribute (set_balance, set_owner).\n",
    "   - A method `deposit` to add funds to the account.\n",
    "   - A method `withdraw` to deduct funds from the account.\n",
    "\n",
    "3. Implement input validation in the setter methods:\n",
    "   - Ensure that the balance is a non-negative value.\n",
    "   - Ensure that the owner's name is not empty.\n",
    "\n",
    "4. Implement input validation in the `withdraw` method:\n",
    "   - Ensure that the withdrawal amount is less than or equal to the current balance.\n",
    "\n",
    "5. Demonstrate the usage of the BankAccount class in the main program by creating an instance, setting attributes, depositing and withdrawing funds, and displaying account information."
   ]
  },
  {
   "cell_type": "markdown",
   "metadata": {},
   "source": []
  },
  {
   "cell_type": "code",
   "execution_count": 1,
   "metadata": {},
   "outputs": [
    {
     "name": "stdout",
     "output_type": "stream",
     "text": [
      "Error: Withdrawal amount must be positive and less than or equal to the current balance.\n",
      "Error: Balance cannot be negative.\n",
      "Error: Owner's name cannot be empty.\n",
      "Account Number: 123456789\n",
      "Owner: John Doe\n",
      "Balance: 1300\n"
     ]
    }
   ],
   "source": [
    "class BankAccount:\n",
    "    def __init__(self, account_number, balance, owner):\n",
    "        self.__account_number = account_number\n",
    "        self.__balance = balance\n",
    "        self.__owner = owner\n",
    "\n",
    "    def get_account_number(self):\n",
    "        return self.__account_number\n",
    "\n",
    "    def get_balance(self):\n",
    "        return self.__balance\n",
    "\n",
    "    def get_owner(self):\n",
    "        return self.__owner\n",
    "\n",
    "    def set_balance(self, balance):\n",
    "        if balance >= 0:\n",
    "            self.__balance = balance\n",
    "        else:\n",
    "            print(\"Error: Balance cannot be negative.\")\n",
    "\n",
    "    def set_owner(self, owner):\n",
    "        if owner.strip():\n",
    "            self.__owner = owner\n",
    "        else:\n",
    "            print(\"Error: Owner's name cannot be empty.\")\n",
    "\n",
    "    def deposit(self, amount):\n",
    "        if amount > 0:\n",
    "            self.__balance += amount\n",
    "        else:\n",
    "            print(\"Error: Deposit amount must be positive.\")\n",
    "\n",
    "    def withdraw(self, amount):\n",
    "        if 0 < amount <= self.__balance:\n",
    "            self.__balance -= amount\n",
    "        else:\n",
    "            print(\"Error: Withdrawal amount must be positive and less than or equal to the current balance.\")\n",
    "\n",
    "    def display_info(self):\n",
    "        print(\"Account Number:\", self.__account_number)\n",
    "        print(\"Owner:\", self.__owner)\n",
    "        print(\"Balance:\", self.__balance)\n",
    "\n",
    "\n",
    "if __name__ == \"__main__\":\n",
    "    account = BankAccount(\"123456789\", 1000, \"John Doe\")\n",
    "\n",
    "    account.deposit(500)\n",
    "    account.withdraw(200)\n",
    "    account.withdraw(1500)  \n",
    "    account.set_balance(-500)  \n",
    "    account.set_owner(\"\") \n",
    "\n",
    "    account.display_info()\n"
   ]
  }
 ],
 "metadata": {
  "kernelspec": {
   "display_name": "luca",
   "language": "python",
   "name": "python3"
  },
  "language_info": {
   "codemirror_mode": {
    "name": "ipython",
    "version": 3
   },
   "file_extension": ".py",
   "mimetype": "text/x-python",
   "name": "python",
   "nbconvert_exporter": "python",
   "pygments_lexer": "ipython3",
   "version": "3.12.0"
  }
 },
 "nbformat": 4,
 "nbformat_minor": 2
}
